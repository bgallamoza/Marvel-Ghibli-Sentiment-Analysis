{
 "cells": [
  {
   "cell_type": "markdown",
   "metadata": {},
   "source": [
    "## Topic Modeling"
   ]
  },
  {
   "cell_type": "markdown",
   "metadata": {},
   "source": [
    "The goal of topic modeling is to find various topics in your corpus. Unlike sentiment analysis, the order of the words does NOT matter, thus we can use the \"bag of words\" format\n",
    "\n",
    "Our input is a document-term matrix. Our output will ideally be topics across various movies.\n",
    "\n",
    "By looking at the topics, we can see if Hayao Miyazaki's Ghibli movies cover more interesting topics to me than Phase 3 Marvel movies"
   ]
  },
  {
   "cell_type": "markdown",
   "metadata": {},
   "source": [
    "## Latent Dirichlet Allocation"
   ]
  },
  {
   "cell_type": "markdown",
   "metadata": {},
   "source": [
    "\"Dirichlet\" is a type of probability distribution. In LDA, we are looking at text in terms of probability distributions to find hidden (latent) topics"
   ]
  },
  {
   "cell_type": "markdown",
   "metadata": {},
   "source": [
    "### LDA Workflow"
   ]
  },
  {
   "cell_type": "markdown",
   "metadata": {},
   "source": [
    "Goal: You want LDA to learn the topic mix in each document, and the word mix in each topic\n",
    "\n",
    "1. Choose the number of topics you think are in the corpus\n",
    "    1. Example: K = 2\n",
    "    2. Document 1 is about food\n",
    "2. Randomly assign each word in each document to one of 2 topics\n",
    "    1. Example : Word 'banana' is randomly assigned to Topic B (animals)\n",
    "3. Go through every word and its topic assignment in each document. Look at two factors:\n",
    "    1. How often a topic occurs in a document\n",
    "    2. How often the word occurs in a topic overall\n",
    "    \n",
    "4. Assign the word a new topic based on above info\n",
    "    1. Observe that animals don't occur in document 1, and 'bananas' don't appear often in Topic B, thus 'banana' is assigned to Topic A (Food) instead\n",
    "5. Go through multiple iterations, where the topics will eventually make sense."
   ]
  },
  {
   "cell_type": "code",
   "execution_count": null,
   "metadata": {},
   "outputs": [],
   "source": []
  },
  {
   "cell_type": "code",
   "execution_count": null,
   "metadata": {},
   "outputs": [],
   "source": []
  },
  {
   "cell_type": "code",
   "execution_count": null,
   "metadata": {},
   "outputs": [],
   "source": []
  }
 ],
 "metadata": {
  "kernelspec": {
   "display_name": "Python 3",
   "language": "python",
   "name": "python3"
  },
  "language_info": {
   "codemirror_mode": {
    "name": "ipython",
    "version": 3
   },
   "file_extension": ".py",
   "mimetype": "text/x-python",
   "name": "python",
   "nbconvert_exporter": "python",
   "pygments_lexer": "ipython3",
   "version": "3.8.3"
  }
 },
 "nbformat": 4,
 "nbformat_minor": 4
}
